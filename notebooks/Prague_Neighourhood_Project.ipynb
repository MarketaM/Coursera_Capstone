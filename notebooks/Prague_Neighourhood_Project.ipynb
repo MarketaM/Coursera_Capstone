{
 "cells": [
  {
   "cell_type": "markdown",
   "metadata": {},
   "source": [
    "# Prague Neighbourhoods Project"
   ]
  },
  {
   "cell_type": "code",
   "execution_count": 1,
   "metadata": {},
   "outputs": [],
   "source": [
    "import pandas as pd\n"
   ]
  },
  {
   "cell_type": "code",
   "execution_count": 2,
   "metadata": {},
   "outputs": [
    {
     "data": {
      "text/html": [
       "<div>\n",
       "<style scoped>\n",
       "    .dataframe tbody tr th:only-of-type {\n",
       "        vertical-align: middle;\n",
       "    }\n",
       "\n",
       "    .dataframe tbody tr th {\n",
       "        vertical-align: top;\n",
       "    }\n",
       "\n",
       "    .dataframe thead th {\n",
       "        text-align: right;\n",
       "    }\n",
       "</style>\n",
       "<table border=\"1\" class=\"dataframe\">\n",
       "  <thead>\n",
       "    <tr style=\"text-align: right;\">\n",
       "      <th></th>\n",
       "      <th>0</th>\n",
       "      <th>1</th>\n",
       "      <th>2</th>\n",
       "      <th>3</th>\n",
       "    </tr>\n",
       "  </thead>\n",
       "  <tbody>\n",
       "    <tr>\n",
       "      <th>0</th>\n",
       "      <td>Psč</td>\n",
       "      <td>Město</td>\n",
       "      <td>Pošta</td>\n",
       "      <td>Okres</td>\n",
       "    </tr>\n",
       "    <tr>\n",
       "      <th>1</th>\n",
       "      <td>11800</td>\n",
       "      <td>Praha 1-Holešovice</td>\n",
       "      <td>Praha 011</td>\n",
       "      <td>Praha hl.m.</td>\n",
       "    </tr>\n",
       "    <tr>\n",
       "      <th>2</th>\n",
       "      <td>11800</td>\n",
       "      <td>Praha 1-Hradčany</td>\n",
       "      <td>Praha 011</td>\n",
       "      <td>Praha hl.m.</td>\n",
       "    </tr>\n",
       "    <tr>\n",
       "      <th>3</th>\n",
       "      <td>11800</td>\n",
       "      <td>Praha 1-Malá Strana</td>\n",
       "      <td>Praha 011</td>\n",
       "      <td>Praha hl.m.</td>\n",
       "    </tr>\n",
       "    <tr>\n",
       "      <th>4</th>\n",
       "      <td>11900</td>\n",
       "      <td>Praha 1-Hradčany</td>\n",
       "      <td>Praha 012</td>\n",
       "      <td>Praha hl.m.</td>\n",
       "    </tr>\n",
       "  </tbody>\n",
       "</table>\n",
       "</div>"
      ],
      "text/plain": [
       "       0                    1          2            3\n",
       "0    Psč                Město      Pošta        Okres\n",
       "1  11800   Praha 1-Holešovice  Praha 011  Praha hl.m.\n",
       "2  11800     Praha 1-Hradčany  Praha 011  Praha hl.m.\n",
       "3  11800  Praha 1-Malá Strana  Praha 011  Praha hl.m.\n",
       "4  11900     Praha 1-Hradčany  Praha 012  Praha hl.m."
      ]
     },
     "execution_count": 2,
     "metadata": {},
     "output_type": "execute_result"
    }
   ],
   "source": [
    "# scrape a table of Prague postal codes\n",
    "url = \"https://postovnismerovacicisla.cz/psc/Praha\"\n",
    "df_ZIP = pd.read_html(url, encoding=\"UTF8\")\n",
    "df_Prague_Postal_Data = df_ZIP[0]\n",
    "df_Prague_Postal_Data.head()"
   ]
  },
  {
   "cell_type": "code",
   "execution_count": 3,
   "metadata": {},
   "outputs": [
    {
     "data": {
      "text/html": [
       "<div>\n",
       "<style scoped>\n",
       "    .dataframe tbody tr th:only-of-type {\n",
       "        vertical-align: middle;\n",
       "    }\n",
       "\n",
       "    .dataframe tbody tr th {\n",
       "        vertical-align: top;\n",
       "    }\n",
       "\n",
       "    .dataframe thead th {\n",
       "        text-align: right;\n",
       "    }\n",
       "</style>\n",
       "<table border=\"1\" class=\"dataframe\">\n",
       "  <thead>\n",
       "    <tr style=\"text-align: right;\">\n",
       "      <th></th>\n",
       "      <th>Psč</th>\n",
       "      <th>Město</th>\n",
       "      <th>Pošta</th>\n",
       "      <th>Okres</th>\n",
       "    </tr>\n",
       "  </thead>\n",
       "  <tbody>\n",
       "    <tr>\n",
       "      <th>1</th>\n",
       "      <td>11800</td>\n",
       "      <td>Praha 1-Holešovice</td>\n",
       "      <td>Praha 011</td>\n",
       "      <td>Praha hl.m.</td>\n",
       "    </tr>\n",
       "    <tr>\n",
       "      <th>2</th>\n",
       "      <td>11800</td>\n",
       "      <td>Praha 1-Hradčany</td>\n",
       "      <td>Praha 011</td>\n",
       "      <td>Praha hl.m.</td>\n",
       "    </tr>\n",
       "    <tr>\n",
       "      <th>3</th>\n",
       "      <td>11800</td>\n",
       "      <td>Praha 1-Malá Strana</td>\n",
       "      <td>Praha 011</td>\n",
       "      <td>Praha hl.m.</td>\n",
       "    </tr>\n",
       "    <tr>\n",
       "      <th>4</th>\n",
       "      <td>11900</td>\n",
       "      <td>Praha 1-Hradčany</td>\n",
       "      <td>Praha 012</td>\n",
       "      <td>Praha hl.m.</td>\n",
       "    </tr>\n",
       "    <tr>\n",
       "      <th>5</th>\n",
       "      <td>11000</td>\n",
       "      <td>Praha 1-Josefov</td>\n",
       "      <td>Praha 1</td>\n",
       "      <td>Praha hl.m.</td>\n",
       "    </tr>\n",
       "  </tbody>\n",
       "</table>\n",
       "</div>"
      ],
      "text/plain": [
       "0    Psč                Město      Pošta        Okres\n",
       "1  11800   Praha 1-Holešovice  Praha 011  Praha hl.m.\n",
       "2  11800     Praha 1-Hradčany  Praha 011  Praha hl.m.\n",
       "3  11800  Praha 1-Malá Strana  Praha 011  Praha hl.m.\n",
       "4  11900     Praha 1-Hradčany  Praha 012  Praha hl.m.\n",
       "5  11000      Praha 1-Josefov    Praha 1  Praha hl.m."
      ]
     },
     "execution_count": 3,
     "metadata": {},
     "output_type": "execute_result"
    }
   ],
   "source": [
    "header = df_Prague_Postal_Data.iloc[0]\n",
    "df_Prague_Postal_Data = df_Prague_Postal_Data[1:]\n",
    "df_Prague_Postal_Data.columns = header\n",
    "df_Prague_Postal_Data.head()"
   ]
  },
  {
   "cell_type": "code",
   "execution_count": 5,
   "metadata": {},
   "outputs": [
    {
     "data": {
      "text/html": [
       "<div>\n",
       "<style scoped>\n",
       "    .dataframe tbody tr th:only-of-type {\n",
       "        vertical-align: middle;\n",
       "    }\n",
       "\n",
       "    .dataframe tbody tr th {\n",
       "        vertical-align: top;\n",
       "    }\n",
       "\n",
       "    .dataframe thead th {\n",
       "        text-align: right;\n",
       "    }\n",
       "</style>\n",
       "<table border=\"1\" class=\"dataframe\">\n",
       "  <thead>\n",
       "    <tr style=\"text-align: right;\">\n",
       "      <th></th>\n",
       "      <th>Postal_Code</th>\n",
       "      <th>Neighbourhood</th>\n",
       "      <th>Borough</th>\n",
       "    </tr>\n",
       "  </thead>\n",
       "  <tbody>\n",
       "    <tr>\n",
       "      <th>0</th>\n",
       "      <td>11800</td>\n",
       "      <td>Holešovice</td>\n",
       "      <td>Praha 1</td>\n",
       "    </tr>\n",
       "    <tr>\n",
       "      <th>1</th>\n",
       "      <td>11800</td>\n",
       "      <td>Hradčany</td>\n",
       "      <td>Praha 1</td>\n",
       "    </tr>\n",
       "    <tr>\n",
       "      <th>2</th>\n",
       "      <td>11800</td>\n",
       "      <td>Malá Strana</td>\n",
       "      <td>Praha 1</td>\n",
       "    </tr>\n",
       "    <tr>\n",
       "      <th>3</th>\n",
       "      <td>11900</td>\n",
       "      <td>Hradčany</td>\n",
       "      <td>Praha 1</td>\n",
       "    </tr>\n",
       "    <tr>\n",
       "      <th>4</th>\n",
       "      <td>11000</td>\n",
       "      <td>Josefov</td>\n",
       "      <td>Praha 1</td>\n",
       "    </tr>\n",
       "  </tbody>\n",
       "</table>\n",
       "</div>"
      ],
      "text/plain": [
       "0 Postal_Code Neighbourhood  Borough\n",
       "0       11800    Holešovice  Praha 1\n",
       "1       11800      Hradčany  Praha 1\n",
       "2       11800   Malá Strana  Praha 1\n",
       "3       11900      Hradčany  Praha 1\n",
       "4       11000       Josefov  Praha 1"
      ]
     },
     "execution_count": 5,
     "metadata": {},
     "output_type": "execute_result"
    }
   ],
   "source": [
    "df_Prague_ZIP = df_Prague_Postal_Data\\\n",
    "    .drop(columns=[\"Pošta\", \"Okres\"]) \\\n",
    "    .rename(columns={\"Psč\": \"Postal_Code\", \"Město\": \"Neighbourhood\"})\n",
    "\n",
    "df_Prague_ZIP[[\"Borough\", \"Neighbourhood\"]] = df_Prague_ZIP[\"Neighbourhood\"].str.split(\"-\", expand=True)\n",
    "df_Prague_ZIP.reset_index(drop=True, inplace=True)\n",
    "df_Prague_ZIP.head()\n"
   ]
  },
  {
   "cell_type": "code",
   "execution_count": null,
   "metadata": {},
   "outputs": [],
   "source": []
  },
  {
   "cell_type": "code",
   "execution_count": null,
   "metadata": {},
   "outputs": [],
   "source": []
  }
 ],
 "metadata": {
  "kernelspec": {
   "display_name": "Python 3",
   "language": "python",
   "name": "python3"
  },
  "language_info": {
   "codemirror_mode": {
    "name": "ipython",
    "version": 3
   },
   "file_extension": ".py",
   "mimetype": "text/x-python",
   "name": "python",
   "nbconvert_exporter": "python",
   "pygments_lexer": "ipython3",
   "version": "3.8.3"
  }
 },
 "nbformat": 4,
 "nbformat_minor": 4
}
