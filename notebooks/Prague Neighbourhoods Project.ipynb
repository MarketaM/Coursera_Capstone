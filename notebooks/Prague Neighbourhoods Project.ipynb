{
 "cells": [
  {
   "cell_type": "markdown",
   "metadata": {},
   "source": [
    "# Prague Neighbourhoods Project"
   ]
  },
  {
   "cell_type": "markdown",
   "metadata": {},
   "source": [
    "This project aims **to help Prague municipalities, real-estate investors, or individuals** in decision making regarding the current housing market in Prague and its **opportunities for young families** specifically. Since **Prague itself accounts for about two-thirds of the total property sales volumes in the Czech Republic** (1), and **the real estate market is rocketing despite COVID-19 pandemic** (2), it is crucial for stakeholders to have the information necessary when deciding in which properties to invest that would cater to all (or most of) the needs young families in Prague might have. \n",
    "\n",
    "Having the ever growing demand of affordable housing, the lack of sufficient savings at young age (late 20's / early 30's), and a very limited range of available properties, the question is - where to build (or invest in) new housing so families had adequate access to various venues of their choosing (such as parks, playgrounds, schools, kids stores etc.). "
   ]
  },
  {
   "cell_type": "markdown",
   "metadata": {},
   "source": [
    "## References\n",
    "(1) https://www.globalpropertyguide.com/Europe/Czech-Republic/Price-History \n",
    "\n",
    "(2) https://english.radio.cz/press-czech-real-estate-market-thriving-despite-covid-situation-8701862"
   ]
  },
  {
   "cell_type": "code",
   "execution_count": null,
   "metadata": {},
   "outputs": [],
   "source": []
  }
 ],
 "metadata": {
  "kernelspec": {
   "display_name": "Python 3",
   "language": "python",
   "name": "python3"
  },
  "language_info": {
   "codemirror_mode": {
    "name": "ipython",
    "version": 3
   },
   "file_extension": ".py",
   "mimetype": "text/x-python",
   "name": "python",
   "nbconvert_exporter": "python",
   "pygments_lexer": "ipython3",
   "version": "3.8.3"
  }
 },
 "nbformat": 4,
 "nbformat_minor": 4
}
