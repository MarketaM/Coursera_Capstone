{
 "cells": [
  {
   "cell_type": "markdown",
   "metadata": {},
   "source": [
    "# The Young Prague Neighbourhood Project"
   ]
  },
  {
   "cell_type": "markdown",
   "metadata": {},
   "source": [
    "## Business Problem"
   ]
  },
  {
   "cell_type": "markdown",
   "metadata": {},
   "source": [
    "This project aims **to help Prague municipalities, real-estate investors, and individuals** in decision-making regarding the current housing market in Prague and its **opportunities for young families** specifically. Since **Prague itself accounts for about two-thirds of the total property sales volumes in the Czech Republic** (1), and **the real estate market is rocketing despite COVID-19 pandemic** (2), it is crucial for stakeholders to have the information necessary when deciding in which properties to invest that would cater to all (or most of) the needs young families in Prague might have. \n",
    "\n",
    "Having the ever growing demand for affordable housing, the lack of sufficient savings at young age, and a very limited range of available properties, the question is - where to build (or invest in) new housing and what pricing strategy to choose so families had adequate access to various child-friendly venues of their choosing (such as parks, playgrounds, schools, kids stores etc.) while keeping the rents affordable. \n",
    "\n",
    "For many decades, the policy of local administration had been to sell city-owned properties to private ownerships, therefore, there is now little public capability of new housing construction projects. (3) Nonetheless, there is a political will of reversing this trend. This Young Prague Neighbourhood Project could then help not only the private sector, but municipal authorities in decision-making as well. "
   ]
  },
  {
   "cell_type": "markdown",
   "metadata": {},
   "source": [
    "## Data"
   ]
  },
  {
   "cell_type": "markdown",
   "metadata": {},
   "source": [
    "The primary data used for the project cover **Foursquare location data**, **postal codes of Prague districts** (4), and **the average monthly rent prices in Prague per m²** (5). The postal codes will serve as input data to get latitudes and longitudes of the respective districts. With the help of Foursquare data, the most frequent venues for each district will be obtained in terms of their classification (i.e. classification into categories such as restaurants, bars, museums etc. as shown on Foursquare website (6)). Lastly, the average monthly rent prices per m² of the respective districts will be used to calculate a score how well a certain district is worth (in regards to its child-friendly venues) compared to its relative rent level - i.e. *the value for money of living in the specific district with close child-friendly services in mind*."
   ]
  },
  {
   "cell_type": "markdown",
   "metadata": {},
   "source": [
    "## References\n",
    "(1) https://www.globalpropertyguide.com/Europe/Czech-Republic/Price-History \n",
    "\n",
    "(2) https://english.radio.cz/press-czech-real-estate-market-thriving-despite-covid-situation-8701862\n",
    "\n",
    "(3) https://zpravy.aktualne.cz/domaci/prohlednete-si-pozemky-kde-praha-zacne-stavet-byty-pribyvat/r~2ca292b6aeed11ea9c800cc47ab5f122/\n",
    "\n",
    "(4) https://postovnismerovacicisla.cz/psc/Praha\n",
    "\n",
    "(5) https://realitymix.cz/statistika-nemovitosti/byty-pronajem-prumerna-cena-pronajmu-1m2-mesic.html\n",
    "\n",
    "(6) https://developer.foursquare.com/docs/build-with-foursquare/categories/"
   ]
  },
  {
   "cell_type": "code",
   "execution_count": null,
   "metadata": {},
   "outputs": [],
   "source": []
  }
 ],
 "metadata": {
  "kernelspec": {
   "display_name": "Python 3",
   "language": "python",
   "name": "python3"
  },
  "language_info": {
   "codemirror_mode": {
    "name": "ipython",
    "version": 3
   },
   "file_extension": ".py",
   "mimetype": "text/x-python",
   "name": "python",
   "nbconvert_exporter": "python",
   "pygments_lexer": "ipython3",
   "version": "3.8.3"
  }
 },
 "nbformat": 4,
 "nbformat_minor": 4
}
